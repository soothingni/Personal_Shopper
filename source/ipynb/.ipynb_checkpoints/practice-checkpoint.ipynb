{
 "cells": [
  {
   "cell_type": "markdown",
   "metadata": {},
   "source": [
    "# 일반적인 CNN"
   ]
  },
  {
   "cell_type": "code",
   "execution_count": 2,
   "metadata": {},
   "outputs": [
    {
     "name": "stderr",
     "output_type": "stream",
     "text": [
      "Using TensorFlow backend.\n"
     ]
    }
   ],
   "source": [
    "from keras.models import Sequential\n",
    "from keras.layers import Dense\n",
    "from keras.layers import Flatten\n",
    "from keras.layers.convolutional import Conv2D\n",
    "from keras.layers.convolutional import MaxPooling2D\n",
    "from keras.layers import Activation, Dropout, Flatten, Dense\n",
    "import keras\n",
    "import tensorflow as tf\n",
    "import numpy as np\n",
    "from numpy  import expand_dims\n",
    "import cv2\n",
    "from matplotlib import pyplot as plt\n",
    "from keras.preprocessing.image import ImageDataGenerator, array_to_img, img_to_array, load_img"
   ]
  },
  {
   "cell_type": "code",
   "execution_count": 3,
   "metadata": {},
   "outputs": [],
   "source": [
    "batch_size = 10\n",
    "\n",
    "train_datagen = ImageDataGenerator(rescale=1./255 )\n",
    "validation_datagen = ImageDataGenerator(rescale=1./255)\n",
    "test_datagen = ImageDataGenerator(rescale=1./255)"
   ]
  },
  {
   "cell_type": "code",
   "execution_count": 4,
   "metadata": {},
   "outputs": [
    {
     "name": "stdout",
     "output_type": "stream",
     "text": [
      "Found 990 images belonging to 99 classes.\n"
     ]
    }
   ],
   "source": [
    "# 이미지를 배치 단위로 불러와 줄 generator입니다.\n",
    "train_generator = train_datagen.flow_from_directory(\n",
    "        '../DB',  # this is the target directory\n",
    "        target_size=(150, 150),  # 모든 이미지의 크기가 150x150로 조정됩니다.\n",
    "        batch_size=batch_size)"
   ]
  },
  {
   "cell_type": "code",
   "execution_count": 5,
   "metadata": {},
   "outputs": [
    {
     "name": "stdout",
     "output_type": "stream",
     "text": [
      "Found 990 images belonging to 99 classes.\n",
      "Found 990 images belonging to 99 classes.\n"
     ]
    }
   ],
   "source": [
    "validation_generator = validation_datagen.flow_from_directory(\n",
    "        '../DB',\n",
    "        target_size=(150, 150),\n",
    "        batch_size=batch_size)\n",
    "\n",
    "test_generator = test_datagen.flow_from_directory(\n",
    "        '../DB',\n",
    "        target_size=(150, 150),\n",
    "        batch_size=batch_size)"
   ]
  },
  {
   "cell_type": "code",
   "execution_count": 17,
   "metadata": {},
   "outputs": [],
   "source": [
    "model = Sequential()\n",
    "model.add(Conv2D(32, (3, 3), input_shape=(150, 150,3)))\n",
    "model.add(Activation('relu'))\n",
    "model.add(MaxPooling2D(pool_size=(2, 2)))\n",
    "\n",
    "model.add(Conv2D(32, (3, 3)))\n",
    "model.add(Activation('relu'))\n",
    "model.add(MaxPooling2D(pool_size=(2, 2)))\n",
    "\n",
    "model.add(Conv2D(64, (3, 3)))\n",
    "model.add(Activation('relu'))\n",
    "model.add(MaxPooling2D(pool_size=(2, 2)))\n",
    "\n",
    "model.add(Flatten())  # this converts our 3D feature maps to 1D feature vectors\n",
    "model.add(Dense(64))\n",
    "model.add(Activation('relu'))\n",
    "model.add(Dropout(0.5))\n",
    "model.add(Dense(99))\n",
    "model.add(Activation('softmax'))\n",
    "\n",
    "model.compile(loss='categorical_crossentropy',\n",
    "              optimizer='rmsprop',\n",
    "              metrics=['accuracy'])"
   ]
  },
  {
   "cell_type": "code",
   "execution_count": 18,
   "metadata": {},
   "outputs": [
    {
     "name": "stdout",
     "output_type": "stream",
     "text": [
      "Model: \"sequential_4\"\n",
      "_________________________________________________________________\n",
      "Layer (type)                 Output Shape              Param #   \n",
      "=================================================================\n",
      "conv2d_10 (Conv2D)           (None, 148, 148, 32)      896       \n",
      "_________________________________________________________________\n",
      "activation_16 (Activation)   (None, 148, 148, 32)      0         \n",
      "_________________________________________________________________\n",
      "max_pooling2d_10 (MaxPooling (None, 74, 74, 32)        0         \n",
      "_________________________________________________________________\n",
      "conv2d_11 (Conv2D)           (None, 72, 72, 32)        9248      \n",
      "_________________________________________________________________\n",
      "activation_17 (Activation)   (None, 72, 72, 32)        0         \n",
      "_________________________________________________________________\n",
      "max_pooling2d_11 (MaxPooling (None, 36, 36, 32)        0         \n",
      "_________________________________________________________________\n",
      "conv2d_12 (Conv2D)           (None, 34, 34, 64)        18496     \n",
      "_________________________________________________________________\n",
      "activation_18 (Activation)   (None, 34, 34, 64)        0         \n",
      "_________________________________________________________________\n",
      "max_pooling2d_12 (MaxPooling (None, 17, 17, 64)        0         \n",
      "_________________________________________________________________\n",
      "flatten_4 (Flatten)          (None, 18496)             0         \n",
      "_________________________________________________________________\n",
      "dense_7 (Dense)              (None, 64)                1183808   \n",
      "_________________________________________________________________\n",
      "activation_19 (Activation)   (None, 64)                0         \n",
      "_________________________________________________________________\n",
      "dropout_4 (Dropout)          (None, 64)                0         \n",
      "_________________________________________________________________\n",
      "dense_8 (Dense)              (None, 99)                6435      \n",
      "_________________________________________________________________\n",
      "activation_20 (Activation)   (None, 99)                0         \n",
      "=================================================================\n",
      "Total params: 1,218,883\n",
      "Trainable params: 1,218,883\n",
      "Non-trainable params: 0\n",
      "_________________________________________________________________\n"
     ]
    }
   ],
   "source": [
    "model.summary()"
   ]
  },
  {
   "cell_type": "code",
   "execution_count": 19,
   "metadata": {},
   "outputs": [
    {
     "name": "stdout",
     "output_type": "stream",
     "text": [
      "Epoch 1/50\n",
      "200/200 [==============================] - 50s 249ms/step - loss: 4.6089 - accuracy: 0.0065 - val_loss: 4.5782 - val_accuracy: 0.0137\n",
      "Epoch 2/50\n",
      "200/200 [==============================] - 48s 240ms/step - loss: 4.5706 - accuracy: 0.0140 - val_loss: 4.2299 - val_accuracy: 0.0550\n",
      "Epoch 3/50\n",
      "200/200 [==============================] - 65s 323ms/step - loss: 4.2166 - accuracy: 0.0630 - val_loss: 2.7314 - val_accuracy: 0.3537\n",
      "Epoch 4/50\n",
      "200/200 [==============================] - 62s 310ms/step - loss: 3.4261 - accuracy: 0.2050 - val_loss: 1.8231 - val_accuracy: 0.5987\n",
      "Epoch 5/50\n",
      "200/200 [==============================] - 61s 306ms/step - loss: 2.6079 - accuracy: 0.3435 - val_loss: 0.9728 - val_accuracy: 0.8800\n",
      "Epoch 6/50\n",
      "200/200 [==============================] - 55s 276ms/step - loss: 1.9497 - accuracy: 0.4890 - val_loss: 0.4382 - val_accuracy: 0.9488\n",
      "Epoch 7/50\n",
      "200/200 [==============================] - 53s 267ms/step - loss: 1.4880 - accuracy: 0.5930 - val_loss: 0.6100 - val_accuracy: 0.9750\n",
      "Epoch 8/50\n",
      "200/200 [==============================] - 60s 300ms/step - loss: 1.2827 - accuracy: 0.6490 - val_loss: 0.0769 - val_accuracy: 0.9925\n",
      "Epoch 9/50\n",
      "200/200 [==============================] - 51s 253ms/step - loss: 0.9825 - accuracy: 0.7150 - val_loss: 0.0581 - val_accuracy: 0.9937\n",
      "Epoch 10/50\n",
      "200/200 [==============================] - 57s 285ms/step - loss: 0.8124 - accuracy: 0.7630 - val_loss: 4.8548e-04 - val_accuracy: 0.9925\n",
      "Epoch 11/50\n",
      "200/200 [==============================] - 56s 279ms/step - loss: 0.7749 - accuracy: 0.7710 - val_loss: 0.0137 - val_accuracy: 0.9950\n",
      "Epoch 12/50\n",
      "200/200 [==============================] - 51s 256ms/step - loss: 0.7054 - accuracy: 0.7985 - val_loss: 0.0056 - val_accuracy: 0.9962\n",
      "Epoch 13/50\n",
      "200/200 [==============================] - 46s 230ms/step - loss: 0.6492 - accuracy: 0.8180 - val_loss: 0.0232 - val_accuracy: 0.9975\n",
      "Epoch 14/50\n",
      "200/200 [==============================] - 47s 236ms/step - loss: 0.6515 - accuracy: 0.8040 - val_loss: 5.7155e-04 - val_accuracy: 0.9950\n",
      "Epoch 15/50\n",
      "200/200 [==============================] - 59s 295ms/step - loss: 0.6185 - accuracy: 0.8270 - val_loss: 8.5314e-05 - val_accuracy: 0.9962\n",
      "Epoch 16/50\n",
      "200/200 [==============================] - 53s 266ms/step - loss: 0.5780 - accuracy: 0.8390 - val_loss: 1.2611e-04 - val_accuracy: 0.9975\n",
      "Epoch 17/50\n",
      "200/200 [==============================] - 59s 293ms/step - loss: 0.5363 - accuracy: 0.8485 - val_loss: 0.0056 - val_accuracy: 0.9987\n",
      "Epoch 18/50\n",
      "200/200 [==============================] - 44s 219ms/step - loss: 0.5301 - accuracy: 0.8515 - val_loss: 2.3674e-05 - val_accuracy: 0.9975\n",
      "Epoch 19/50\n",
      "200/200 [==============================] - 49s 243ms/step - loss: 0.5161 - accuracy: 0.8600 - val_loss: 6.5844e-04 - val_accuracy: 0.9987\n",
      "Epoch 20/50\n",
      "200/200 [==============================] - 49s 245ms/step - loss: 0.5303 - accuracy: 0.8485 - val_loss: 0.0115 - val_accuracy: 0.9975\n",
      "Epoch 21/50\n",
      "200/200 [==============================] - 44s 218ms/step - loss: 0.5366 - accuracy: 0.8460 - val_loss: 0.0037 - val_accuracy: 0.9987\n",
      "Epoch 22/50\n",
      "200/200 [==============================] - 44s 218ms/step - loss: 0.5027 - accuracy: 0.8645 - val_loss: 0.0748 - val_accuracy: 0.9975\n",
      "Epoch 23/50\n",
      "200/200 [==============================] - 44s 221ms/step - loss: 0.4731 - accuracy: 0.8765 - val_loss: 0.0063 - val_accuracy: 1.0000\n",
      "Epoch 24/50\n",
      "200/200 [==============================] - 47s 235ms/step - loss: 0.5537 - accuracy: 0.8535 - val_loss: 3.5223e-04 - val_accuracy: 0.9987\n",
      "Epoch 25/50\n",
      "200/200 [==============================] - 43s 217ms/step - loss: 0.4745 - accuracy: 0.8785 - val_loss: 0.0121 - val_accuracy: 0.9987\n",
      "Epoch 26/50\n",
      "200/200 [==============================] - 43s 217ms/step - loss: 0.5301 - accuracy: 0.8635 - val_loss: 7.3444e-04 - val_accuracy: 0.9987\n",
      "Epoch 27/50\n",
      "200/200 [==============================] - 47s 235ms/step - loss: 0.5289 - accuracy: 0.8590 - val_loss: 4.1723e-06 - val_accuracy: 0.9987\n",
      "Epoch 28/50\n",
      "200/200 [==============================] - 49s 244ms/step - loss: 0.5535 - accuracy: 0.8535 - val_loss: 9.2635e-04 - val_accuracy: 0.9987\n",
      "Epoch 29/50\n",
      "200/200 [==============================] - 51s 254ms/step - loss: 0.5901 - accuracy: 0.8540 - val_loss: 7.0700e-04 - val_accuracy: 0.9975\n",
      "Epoch 30/50\n",
      "200/200 [==============================] - 50s 249ms/step - loss: 0.5391 - accuracy: 0.8580 - val_loss: 0.0302 - val_accuracy: 1.0000\n",
      "Epoch 31/50\n",
      "200/200 [==============================] - 47s 235ms/step - loss: 0.5428 - accuracy: 0.8660 - val_loss: 7.3322e-05 - val_accuracy: 0.9987\n",
      "Epoch 32/50\n",
      "200/200 [==============================] - 49s 246ms/step - loss: 0.5559 - accuracy: 0.8575 - val_loss: 5.9778e-04 - val_accuracy: 0.9987\n",
      "Epoch 33/50\n",
      "200/200 [==============================] - 46s 232ms/step - loss: 0.5835 - accuracy: 0.8440 - val_loss: 0.1896 - val_accuracy: 1.0000\n",
      "Epoch 34/50\n",
      "200/200 [==============================] - 51s 255ms/step - loss: 0.5862 - accuracy: 0.8490 - val_loss: 7.0689e-06 - val_accuracy: 0.9987\n",
      "Epoch 35/50\n",
      "200/200 [==============================] - 54s 269ms/step - loss: 0.6017 - accuracy: 0.8485 - val_loss: 0.0286 - val_accuracy: 1.0000\n",
      "Epoch 36/50\n",
      "200/200 [==============================] - 55s 277ms/step - loss: 0.5985 - accuracy: 0.8600 - val_loss: 1.0741e-05 - val_accuracy: 1.0000\n",
      "Epoch 37/50\n",
      "200/200 [==============================] - 50s 250ms/step - loss: 0.5326 - accuracy: 0.8640 - val_loss: 0.0179 - val_accuracy: 0.9987\n",
      "Epoch 38/50\n",
      "200/200 [==============================] - 46s 229ms/step - loss: 0.5776 - accuracy: 0.8580 - val_loss: 0.0037 - val_accuracy: 0.9975\n",
      "Epoch 39/50\n",
      "200/200 [==============================] - 48s 240ms/step - loss: 0.6550 - accuracy: 0.8420 - val_loss: 0.0691 - val_accuracy: 0.9987\n",
      "Epoch 40/50\n",
      "200/200 [==============================] - 47s 234ms/step - loss: 0.6006 - accuracy: 0.8625 - val_loss: 0.0084 - val_accuracy: 1.0000\n",
      "Epoch 41/50\n",
      "200/200 [==============================] - 54s 270ms/step - loss: 0.6427 - accuracy: 0.8460 - val_loss: 0.2625 - val_accuracy: 0.9725\n",
      "Epoch 42/50\n",
      "200/200 [==============================] - 46s 230ms/step - loss: 0.6466 - accuracy: 0.8400 - val_loss: 0.0050 - val_accuracy: 0.9975\n",
      "Epoch 43/50\n",
      "200/200 [==============================] - 48s 239ms/step - loss: 0.5464 - accuracy: 0.8685 - val_loss: 3.7771e-05 - val_accuracy: 0.9987\n",
      "Epoch 44/50\n",
      "200/200 [==============================] - 48s 239ms/step - loss: 0.6012 - accuracy: 0.8545 - val_loss: 1.0286e-04 - val_accuracy: 1.0000\n",
      "Epoch 45/50\n",
      "200/200 [==============================] - 48s 242ms/step - loss: 0.5760 - accuracy: 0.8595 - val_loss: 4.7684e-08 - val_accuracy: 1.0000\n",
      "Epoch 46/50\n",
      "200/200 [==============================] - 53s 263ms/step - loss: 0.6568 - accuracy: 0.8435 - val_loss: 0.0136 - val_accuracy: 0.9975\n",
      "Epoch 47/50\n",
      "200/200 [==============================] - 48s 241ms/step - loss: 0.5934 - accuracy: 0.8520 - val_loss: 3.3378e-06 - val_accuracy: 1.0000\n",
      "Epoch 48/50\n",
      "200/200 [==============================] - 47s 233ms/step - loss: 0.5854 - accuracy: 0.8540 - val_loss: 1.9870e-05 - val_accuracy: 0.9975\n",
      "Epoch 49/50\n",
      "200/200 [==============================] - 48s 242ms/step - loss: 0.5749 - accuracy: 0.8640 - val_loss: 8.9407e-07 - val_accuracy: 0.9987\n",
      "Epoch 50/50\n",
      "200/200 [==============================] - 47s 236ms/step - loss: 0.6303 - accuracy: 0.8500 - val_loss: 2.1338e-06 - val_accuracy: 0.9975\n"
     ]
    }
   ],
   "source": [
    "history = model.fit_generator(\n",
    "        train_generator,\n",
    "        steps_per_epoch=2000 // batch_size,\n",
    "        epochs=50, # 50\n",
    "        validation_data=validation_generator,\n",
    "        validation_steps=800 // batch_size)"
   ]
  },
  {
   "cell_type": "code",
   "execution_count": 20,
   "metadata": {},
   "outputs": [
    {
     "data": {
      "image/png": "[encoded data removed]",
      "text/plain": [
       "<Figure size 432x288 with 1 Axes>"
      ]
     },
     "metadata": {
      "needs_background": "light"
     },
     "output_type": "display_data"
    },
    {
     "data": {
      "image/png": "[encoded data removed]",
      "text/plain": [
       "<Figure size 432x288 with 1 Axes>"
      ]
     },
     "metadata": {
      "needs_background": "light"
     },
     "output_type": "display_data"
    }
   ],
   "source": [
    "# Plot the accuracy and loss curves\n",
    "acc = history.history['accuracy']\n",
    "val_acc = history.history['val_accuracy']\n",
    "loss = history.history['loss']\n",
    "val_loss = history.history['val_loss']\n",
    "\n",
    "epochs = range(len(acc))\n",
    "\n",
    "plt.plot(epochs, acc, 'b', label='Training acc')\n",
    "plt.plot(epochs, val_acc, 'r', label='Validation acc')\n",
    "plt.title('Training and validation accuracy')\n",
    "plt.legend()\n",
    "\n",
    "plt.figure()\n",
    "\n",
    "plt.plot(epochs, loss, 'b', label='Training loss')\n",
    "plt.plot(epochs, val_loss, 'r', label='Validation loss')\n",
    "plt.title('Training and validation loss')\n",
    "plt.legend()\n",
    "\n",
    "plt.show()"
   ]
  },
  {
   "cell_type": "code",
   "execution_count": null,
   "metadata": {},
   "outputs": [],
   "source": [
    "#모델 저장\n",
    "model.save(\"99accounts.h5\")\n",
    "scores = model.evaluate_generator( test_generator, steps = 800 // batch_size)\n",
    "print(scores[1])"
   ]
  },
  {
   "cell_type": "markdown",
   "metadata": {},
   "source": [
    "# Triplet Loss"
   ]
  },
  {
   "cell_type": "code",
   "execution_count": 21,
   "metadata": {},
   "outputs": [],
   "source": [
    "tf.maximum?"
   ]
  },
  {
   "cell_type": "code",
   "execution_count": 22,
   "metadata": {},
   "outputs": [],
   "source": [
    "tf.reduce_mean?"
   ]
  },
  {
   "cell_type": "code",
   "execution_count": 1,
   "metadata": {},
   "outputs": [
    {
     "ename": "ModuleNotFoundError",
     "evalue": "No module named 'model'",
     "output_type": "error",
     "traceback": [
      "\u001b[0;31m---------------------------------------------------------------------------\u001b[0m",
      "\u001b[0;31mModuleNotFoundError\u001b[0m                       Traceback (most recent call last)",
      "\u001b[0;32m<ipython-input-1-486794006499>\u001b[0m in \u001b[0;36m<module>\u001b[0;34m\u001b[0m\n\u001b[1;32m     11\u001b[0m \u001b[0;32mfrom\u001b[0m \u001b[0mtensorflow\u001b[0m\u001b[0;34m.\u001b[0m\u001b[0mpython\u001b[0m\u001b[0;34m.\u001b[0m\u001b[0mops\u001b[0m\u001b[0;34m.\u001b[0m\u001b[0mvariables\u001b[0m \u001b[0;32mimport\u001b[0m \u001b[0m_all_saveable_objects\u001b[0m\u001b[0;34m\u001b[0m\u001b[0;34m\u001b[0m\u001b[0m\n\u001b[1;32m     12\u001b[0m \u001b[0;34m\u001b[0m\u001b[0m\n\u001b[0;32m---> 13\u001b[0;31m \u001b[0;32mimport\u001b[0m \u001b[0mmodel\u001b[0m\u001b[0;34m.\u001b[0m\u001b[0mmnist_dataset\u001b[0m \u001b[0;32mas\u001b[0m \u001b[0mmnist_dataset\u001b[0m\u001b[0;34m\u001b[0m\u001b[0;34m\u001b[0m\u001b[0m\n\u001b[0m\u001b[1;32m     14\u001b[0m \u001b[0;32mfrom\u001b[0m \u001b[0mmodel\u001b[0m\u001b[0;34m.\u001b[0m\u001b[0mutils\u001b[0m \u001b[0;32mimport\u001b[0m \u001b[0mParams\u001b[0m\u001b[0;34m\u001b[0m\u001b[0;34m\u001b[0m\u001b[0m\n\u001b[1;32m     15\u001b[0m \u001b[0;32mfrom\u001b[0m \u001b[0mmodel\u001b[0m\u001b[0;34m.\u001b[0m\u001b[0minput_fn\u001b[0m \u001b[0;32mimport\u001b[0m \u001b[0mtest_input_fn\u001b[0m\u001b[0;34m\u001b[0m\u001b[0;34m\u001b[0m\u001b[0m\n",
      "\u001b[0;31mModuleNotFoundError\u001b[0m: No module named 'model'"
     ]
    }
   ],
   "source": [
    "\"\"\"Train the model\"\"\"\n",
    "\n",
    "import argparse\n",
    "import os\n",
    "import pathlib\n",
    "import shutil\n",
    "\n",
    "import numpy as np\n",
    "import tensorflow as tf\n",
    "from tensorboard.plugins import projector\n",
    "from tensorflow.python.ops.variables import _all_saveable_objects\n",
    "\n",
    "import model.mnist_dataset as mnist_dataset\n",
    "from model.utils import Params\n",
    "from model.input_fn import test_input_fn\n",
    "from model.model_fn import model_fn\n",
    "\n",
    "\n",
    "parser = argparse.ArgumentParser()\n",
    "parser.add_argument('--model_dir', default='experiments/base_model',\n",
    "                    help=\"Experiment directory containing params.json\")\n",
    "parser.add_argument('--data_dir', default='data/mnist',\n",
    "                    help=\"Directory containing the dataset\")\n",
    "parser.add_argument('--sprite_filename', default='experiments/mnist_10k_sprite.png',\n",
    "                    help=\"Sprite image for the projector\")\n",
    "\n",
    "\n",
    "if __name__ == '__main__':\n",
    "    tf.compat.v1.reset_default_graph()\n",
    "    tf.compat.v1.logging.set_verbosity(tf.compat.v1.logging.INFO)\n",
    "\n",
    "    # Load the parameters from json file\n",
    "    args = parser.parse_args()\n",
    "    json_path = os.path.join(args.model_dir, 'params.json')\n",
    "    assert os.path.isfile(json_path), \"No json configuration file found at {}\".format(json_path)\n",
    "    params = Params(json_path)\n",
    "\n",
    "    # Define the model\n",
    "    tf.compat.v1.logging.info(\"Creating the model...\")\n",
    "    config = tf.estimator.RunConfig(tf_random_seed=230,\n",
    "                                    model_dir=args.model_dir,\n",
    "                                    save_summary_steps=params.save_summary_steps)\n",
    "    estimator = tf.estimator.Estimator(model_fn, params=params, config=config)\n",
    "\n",
    "\n",
    "    # EMBEDDINGS VISUALIZATION\n",
    "\n",
    "    # Compute embeddings on the test set\n",
    "    tf.compat.v1.logging.info(\"Predicting\")\n",
    "    predictions = estimator.predict(lambda: test_input_fn(args.data_dir, params))\n",
    "\n",
    "    # TODO (@omoindrot): remove the hard-coded 10000\n",
    "    embeddings = np.zeros((10000, params.embedding_size))\n",
    "    for i, p in enumerate(predictions):\n",
    "        embeddings[i] = p['embeddings']\n",
    "\n",
    "    tf.compat.v1.logging.info(\"Embeddings shape: {}\".format(embeddings.shape))\n",
    "\n",
    "    # Visualize test embeddings\n",
    "    embedding_var = tf.Variable(embeddings, name='mnist_embedding')\n",
    "\n",
    "    eval_dir = os.path.join(args.model_dir, \"eval\")\n",
    "\n",
    "    class DummyFileWriter(object):\n",
    "        def get_logdir(self):\n",
    "            return eval_dir\n",
    "\n",
    "    config = projector.ProjectorConfig()\n",
    "    embedding = config.embeddings.add()\n",
    "    embedding.tensor_name = embedding_var.name\n",
    "\n",
    "    # Specify where you find the sprite (we will create this later)\n",
    "    # Copy the embedding sprite image to the eval directory\n",
    "    shutil.copy2(args.sprite_filename, eval_dir)\n",
    "    embedding.sprite.image_path = pathlib.Path(args.sprite_filename).name\n",
    "    embedding.sprite.single_image_dim.extend([28, 28])\n",
    "\n",
    "    with tf.compat.v1.Session() as sess:\n",
    "        # TODO (@omoindrot): remove the hard-coded 10000\n",
    "        # Obtain the test labels\n",
    "        dataset = mnist_dataset.test(args.data_dir)\n",
    "        dataset = dataset.map(lambda img, lab: lab)\n",
    "        dataset = dataset.batch(10000)\n",
    "        labels_tensor = tf.compat.v1.data.make_one_shot_iterator(dataset).get_next()\n",
    "        labels = sess.run(labels_tensor)\n",
    "\n",
    "    # Specify where you find the metadata\n",
    "    # Save the metadata file needed for Tensorboard projector\n",
    "    metadata_filename = \"mnist_metadata.tsv\"\n",
    "    with open(os.path.join(eval_dir, metadata_filename), 'w') as f:\n",
    "        for i in range(params.eval_size):\n",
    "            c = labels[i]\n",
    "            f.write('{}\\n'.format(c))\n",
    "    embedding.metadata_path = metadata_filename\n",
    "\n",
    "    # Say that you want to visualise the embeddings\n",
    "    projector.visualize_embeddings(DummyFileWriter(), config)\n",
    "\n",
    "    saver = tf.compat.v1.train.Saver(_all_saveable_objects)\n",
    "    with tf.compat.v1.Session() as sess:\n",
    "        sess.run(embedding_var.initializer)\n",
    "        saver.save(sess, os.path.join(eval_dir, \"embeddings.ckpt\"))\n"
   ]
  },
  {
   "cell_type": "code",
   "execution_count": null,
   "metadata": {},
   "outputs": [],
   "source": []
  }
 ],
 "metadata": {
  "kernelspec": {
   "display_name": "Python 3",
   "language": "python",
   "name": "python3"
  },
  "language_info": {
   "codemirror_mode": {
    "name": "ipython",
    "version": 3
   },
   "file_extension": ".py",
   "mimetype": "text/x-python",
   "name": "python",
   "nbconvert_exporter": "python",
   "pygments_lexer": "ipython3",
   "version": "3.7.5"
  }
 },
 "nbformat": 4,
 "nbformat_minor": 2
}

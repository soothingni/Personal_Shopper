{
 "cells": [
  {
   "cell_type": "markdown",
   "metadata": {},
   "source": [
    "# 서울스토어 크롤러\n",
    "\n",
    "서울스토어 Women's 페이지의 상품(이미지, 상세정보 링크)을 크롤링하는 크롤러입니다.\n",
    "\n",
    "크롤링 결과는 {\"key\": 상품url, \"img_url\": 이미지url} 형태의 json 파일로 저장합니다."
   ]
  },
  {
   "cell_type": "code",
   "execution_count": 2,
   "metadata": {},
   "outputs": [],
   "source": [
    "from __future__ import unicode_literals\n",
    "from selenium import webdriver\n",
    "from selenium.webdriver.common.by import By\n",
    "from selenium.webdriver.support.ui import WebDriverWait\n",
    "from selenium.webdriver.support import expected_conditions as EC\n",
    "from selenium.webdriver.common.keys import Keys\n",
    "import pandas as pd\n",
    "import time\n",
    "import glob\n",
    "import json\n",
    "import os\n",
    "import re\n",
    "import sys\n",
    "import time\n",
    "import traceback\n",
    "from builtins import open\n",
    "from time import sleep"
   ]
  },
  {
   "cell_type": "code",
   "execution_count": 82,
   "metadata": {},
   "outputs": [],
   "source": [
    "root = 'https://www.seoulstore.com/compilations/582/products'\n",
    "key_set = set()\n",
    "posts = []\n",
    "\n",
    "def get_products(num, wait_time):\n",
    "    browser = webdriver.Chrome('chromedriver')\n",
    "    wait = WebDriverWait(browser, wait_time)\n",
    "    browser.get(root)\n",
    "    body = browser.find_element_by_tag_name('body')\n",
    "    \n",
    "    count = 0\n",
    "    prev_posts_count = 0\n",
    "    \n",
    "    while len(posts) < num:\n",
    "        \n",
    "        body.send_keys(Keys.PAGE_DOWN)\n",
    "        ele_posts = browser.find_elements_by_class_name('image_container')\n",
    "        cur_posts_count = len(ele_posts)\n",
    "\n",
    "        if prev_posts_count == cur_posts_count:\n",
    "            count += 1\n",
    "        \n",
    "        else:   #로드된 데이터가 더 있다면 count를 0으로 초기화\n",
    "            count = 0\n",
    "            \n",
    "        if count == 50:  #스크롤을 50회 이상했는데도 추가로 로드되는 데이터가 더 이상 없을 시 break\n",
    "            break\n",
    "            \n",
    "        for ele in ele_posts:\n",
    "            key = ele.find_element_by_tag_name('a').get_attribute('href')\n",
    "            if key not in key_set:\n",
    "                dict_post = { \"key\": key }\n",
    "                wait.until(EC.presence_of_element_located((By.CLASS_NAME, 'ImageLoader.ratio_1_1.loaded')))\n",
    "                ele_img = ele.find_element_by_class_name('ImageLoader.ratio_1_1.loaded')\n",
    "                dict_post[\"img_url\"] = ele_img.get_attribute(\"src\")\n",
    "                key_set.add(key)\n",
    "                posts.append(dict_post)\n",
    "                \n",
    "        prev_posts_count = cur_posts_count\n",
    "        \n",
    "    return posts[:num]\n",
    "\n",
    "def output(data, filepath):\n",
    "    out = json.dumps(data, ensure_ascii=False)\n",
    "    if filepath:\n",
    "        with open(filepath, \"w\", encoding=\"utf8\") as f:\n",
    "            f.write(out)\n",
    "    else:\n",
    "        print(out)"
   ]
  },
  {
   "cell_type": "code",
   "execution_count": 83,
   "metadata": {},
   "outputs": [],
   "source": [
    "output(get_products(1000, 300), '../output_seoulstore.json')"
   ]
  },
  {
   "cell_type": "code",
   "execution_count": 84,
   "metadata": {},
   "outputs": [],
   "source": [
    "with open('../output_seoulstore.json') as data_file:\n",
    "    data = json.load(data_file)"
   ]
  },
  {
   "cell_type": "code",
   "execution_count": 85,
   "metadata": {},
   "outputs": [
    {
     "data": {
      "text/plain": [
       "381"
      ]
     },
     "execution_count": 85,
     "metadata": {},
     "output_type": "execute_result"
    }
   ],
   "source": [
    "len(data)"
   ]
  },
  {
   "cell_type": "code",
   "execution_count": null,
   "metadata": {},
   "outputs": [],
   "source": []
  }
 ],
 "metadata": {
  "kernelspec": {
   "display_name": "Python 3",
   "language": "python",
   "name": "python3"
  },
  "language_info": {
   "codemirror_mode": {
    "name": "ipython",
    "version": 3
   },
   "file_extension": ".py",
   "mimetype": "text/x-python",
   "name": "python",
   "nbconvert_exporter": "python",
   "pygments_lexer": "ipython3",
   "version": "3.7.5"
  }
 },
 "nbformat": 4,
 "nbformat_minor": 2
}

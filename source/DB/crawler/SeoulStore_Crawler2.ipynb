{
 "cells": [
  {
   "cell_type": "markdown",
   "metadata": {},
   "source": [
    "# 서울스토어 크롤러2\n",
    "\n",
    "분류용 상품 이미지를 크롤링하기 위한 메타 정보 크롤러입니다. a.k.a \"통\" 만들기 사전작업\n",
    "\n",
    "서울스토어의 카테고리별 상품 정보(이미지, 상세정보 링크)를 크롤링하는 크롤러입니다. 크롤링 결과를 활용해서 상품 메타정보를 저장 + 상품 이미지(별도의 크롤러 활용)를 저장합니다.\n",
    "\n",
    "크롤링한 카테고리는 아래와 같습니다.\n",
    "- 상의\n",
    "- 하의\n",
    "- 원피스\n",
    "\n",
    "크롤링 결과는 {\"key\": 고유번호(5자리수), \"product_url\": 상품url, \"img_url\": 이미지url} 형태의 json 파일로 저장합니다."
   ]
  },
  {
   "cell_type": "code",
   "execution_count": 22,
   "metadata": {},
   "outputs": [],
   "source": [
    "from __future__ import unicode_literals\n",
    "from selenium import webdriver\n",
    "from selenium.webdriver.common.by import By\n",
    "from selenium.webdriver.support.ui import WebDriverWait\n",
    "from selenium.webdriver.support import expected_conditions as EC\n",
    "from selenium.webdriver.common.keys import Keys\n",
    "import pandas as pd\n",
    "import time\n",
    "import glob\n",
    "import json\n",
    "import os\n",
    "import re\n",
    "import sys\n",
    "import time\n",
    "import traceback\n",
    "from builtins import open\n",
    "from time import sleep"
   ]
  },
  {
   "cell_type": "code",
   "execution_count": 23,
   "metadata": {},
   "outputs": [],
   "source": [
    "#카테고리별 url(상의, 하의, 원피스)\n",
    "root_urls = ['https://www.seoulstore.com/categories/1251/regDatetime/desc',\n",
    "            'https://www.seoulstore.com/categories/1253/regDatetime/desc',\n",
    "            'https://www.seoulstore.com/categories/1252/regDatetime/desc']"
   ]
  },
  {
   "cell_type": "code",
   "execution_count": 43,
   "metadata": {},
   "outputs": [],
   "source": [
    "def get_products(url, num, filepath, wait_time):\n",
    "    \n",
    "    \"\"\"\n",
    "    Arguments:\n",
    "    - url: str. 크롤링할 url\n",
    "    - num: int. url당 크롤링할 아이템 수\n",
    "    - filepath: str. 크롤링 결과를 저장할 json 파일 경로\n",
    "    - wait_time: int. 로딩을 몇 초까지 기다릴지\n",
    "    \n",
    "    Return:\n",
    "    - 없음\n",
    "    \n",
    "    크롤링 완료 후 \"key\":고유번호(5자리수)를 추가해줄 것임 (key를 사후에 추가하는 이유는 중복 크롤링 처리를 쉽게 하기 위함임)\n",
    "    \"\"\"\n",
    "    product_set = set()   #중복 크롤링 거르기 위한 셋. product_url을 원소로 함\n",
    "    \n",
    "    browser = webdriver.Chrome('chromedriver')   #크롬 브라우저 실행\n",
    "    wait = WebDriverWait(browser, wait_time)\n",
    "        \n",
    "    browser.get(url)\n",
    "    body = browser.find_element_by_tag_name('body')\n",
    "\n",
    "    count = 0    #더 이상 로드되는 데이터가 없을 시 크롤링 종료하기 위해 필요한 count임\n",
    "    prev_posts_count = 0\n",
    "    item_count = 0   #크롤링 \n",
    "\n",
    "    while item_count < num:\n",
    "\n",
    "        body.send_keys(Keys.PAGE_DOWN)\n",
    "        ele_posts = browser.find_elements_by_class_name('image_container')\n",
    "        cur_posts_count = len(ele_posts)\n",
    "\n",
    "        if prev_posts_count == cur_posts_count:\n",
    "            count += 1\n",
    "\n",
    "        else:   #로드된 데이터가 더 있다면 count를 0으로 초기화\n",
    "            count = 0\n",
    "\n",
    "        if count == 50:  #스크롤을 50회 이상했는데도 추가로 로드되는 데이터가 더 이상 없을 시 break\n",
    "            break\n",
    "\n",
    "        for ele in ele_posts:\n",
    "            product_url= ele.find_element_by_tag_name('a').get_attribute('href')\n",
    "            if product_url not in product_set:\n",
    "                dict_post = { \"product_url\": product_url }\n",
    "                wait.until(EC.presence_of_element_located((By.CLASS_NAME, 'ImageLoader.ratio_1_1.loaded')))\n",
    "                ele_img = ele.find_element_by_class_name('ImageLoader.ratio_1_1.loaded')\n",
    "                dict_post[\"img_url\"] = ele_img.get_attribute(\"src\")\n",
    "                product_set.add(product_url)\n",
    "                    \n",
    "                out = json.dumps(dict_post, ensure_ascii=False)    #json 형식으로 정보 변환\n",
    "                out += ', '    #아이템 정보 분류하기 위해 끝에 쉼표 추고\n",
    "                with open(filepath, \"a\", encoding=\"utf-8\") as f:\n",
    "                    f.write(out)\n",
    "                    item_count += 1\n",
    "                    \n",
    "        prev_posts_count = cur_posts_count\n",
    "    \n",
    "    browser.close()"
   ]
  },
  {
   "cell_type": "code",
   "execution_count": 47,
   "metadata": {},
   "outputs": [],
   "source": [
    "filepath = '../tong.json'\n",
    "\n",
    "if not filepath:     #파일 없을 경우 만들어주기\n",
    "    open(filepath, 'a').close()\n",
    "        \n",
    "for url in root_urls:    #크롤링\n",
    "    get_products(url, 10, '../tong.json', 300)"
   ]
  },
  {
   "cell_type": "code",
   "execution_count": null,
   "metadata": {},
   "outputs": [],
   "source": []
  }
 ],
 "metadata": {
  "kernelspec": {
   "display_name": "Python 3",
   "language": "python",
   "name": "python3"
  },
  "language_info": {
   "codemirror_mode": {
    "name": "ipython",
    "version": 3
   },
   "file_extension": ".py",
   "mimetype": "text/x-python",
   "name": "python",
   "nbconvert_exporter": "python",
   "pygments_lexer": "ipython3",
   "version": "3.7.5"
  }
 },
 "nbformat": 4,
 "nbformat_minor": 2
}
